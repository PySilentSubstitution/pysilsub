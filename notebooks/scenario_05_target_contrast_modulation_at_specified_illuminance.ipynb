{
 "cells": [
  {
   "cell_type": "markdown",
   "id": "ddee1732-864f-4626-9450-659e919a446c",
   "metadata": {},
   "source": [
    "Target contrast modulation at specified illuminance\n",
    "==================================================="
   ]
  },
  {
   "cell_type": "code",
   "execution_count": null,
   "id": "a30be010-b01e-455b-a13f-afc165847e1b",
   "metadata": {},
   "outputs": [],
   "source": []
  }
 ],
 "metadata": {
  "kernelspec": {
   "display_name": "Python 3 (ipykernel)",
   "language": "python",
   "name": "python3"
  },
  "language_info": {
   "codemirror_mode": {
    "name": "ipython",
    "version": 3
   },
   "file_extension": ".py",
   "mimetype": "text/x-python",
   "name": "python",
   "nbconvert_exporter": "python",
   "pygments_lexer": "ipython3",
   "version": "3.7.7"
  }
 },
 "nbformat": 4,
 "nbformat_minor": 5
}
