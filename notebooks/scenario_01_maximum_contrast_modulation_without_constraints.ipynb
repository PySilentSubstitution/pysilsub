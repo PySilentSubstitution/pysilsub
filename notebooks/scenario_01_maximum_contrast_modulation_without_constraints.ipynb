{
 "cells": [
  {
   "cell_type": "markdown",
   "id": "71ad185a-80d8-4d07-8cf3-494b2a6ded2b",
   "metadata": {},
   "source": [
    "Maximum-contrast modulation without constraints\n",
    "==============================================="
   ]
  },
  {
   "cell_type": "code",
   "execution_count": null,
   "id": "e751665e-a013-4d72-942c-26428696de45",
   "metadata": {},
   "outputs": [],
   "source": []
  }
 ],
 "metadata": {
  "kernelspec": {
   "display_name": "Python 3 (ipykernel)",
   "language": "python",
   "name": "python3"
  },
  "language_info": {
   "codemirror_mode": {
    "name": "ipython",
    "version": 3
   },
   "file_extension": ".py",
   "mimetype": "text/x-python",
   "name": "python",
   "nbconvert_exporter": "python",
   "pygments_lexer": "ipython3",
   "version": "3.7.7"
  }
 },
 "nbformat": 4,
 "nbformat_minor": 5
}
