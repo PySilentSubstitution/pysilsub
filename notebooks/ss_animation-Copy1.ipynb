{
 "cells": [
  {
   "cell_type": "code",
   "execution_count": 1,
   "id": "d3de055f-b790-4fc1-a86e-c050ca6201b9",
   "metadata": {},
   "outputs": [],
   "source": [
    "import numpy as np\n",
    "import pandas as pd\n",
    "import matplotlib.pyplot as plt\n",
    "import seaborn as sns\n",
    "\n",
    "from pysilsub.problem import SilentSubstitutionProblem as SSP\n",
    "from pysilsub.CIE import get_CIES026"
   ]
  },
  {
   "cell_type": "code",
   "execution_count": 2,
   "id": "097168a9-b87e-41b9-a720-24a9f7bae6aa",
   "metadata": {},
   "outputs": [],
   "source": [
    "# Functions for stimulus waveform\n",
    "def get_time_vector(duration):\n",
    "    t = np.arange(0, (duration*1000), 10).astype(\"int\")\n",
    "    return t\n",
    "\n",
    "\n",
    "def sinusoid_modulation(f, duration, Fs=50):\n",
    "    x = np.arange(duration * Fs)\n",
    "    sm = np.sin(2 * np.pi * f * x / Fs)\n",
    "    return sm\n",
    "\n",
    "\n",
    "def modulate_intensity_amplitude(sm, background, amplitude):\n",
    "    ivals = (background + (sm*amplitude)).astype(\"int\")\n",
    "    return ivals"
   ]
  },
  {
   "cell_type": "code",
   "execution_count": 3,
   "id": "85380f5a-4da8-4417-908e-a32d257c56a4",
   "metadata": {},
   "outputs": [
    {
     "ename": "TypeError",
     "evalue": "__init__() got an unexpected keyword argument 'spds'",
     "output_type": "error",
     "traceback": [
      "\u001b[0;31m---------------------------------------------------------------------------\u001b[0m",
      "\u001b[0;31mTypeError\u001b[0m                                 Traceback (most recent call last)",
      "\u001b[0;32m/var/folders/c9/7yddvl1n2ss863cgfngj0wpm0000gp/T/ipykernel_83898/1990463534.py\u001b[0m in \u001b[0;36m<module>\u001b[0;34m\u001b[0m\n\u001b[1;32m     20\u001b[0m     \u001b[0mtarget_contrast\u001b[0m\u001b[0;34m=\u001b[0m\u001b[0;36m2.\u001b[0m\u001b[0;34m,\u001b[0m  \u001b[0;31m# Aim for 250% contrast\u001b[0m\u001b[0;34m\u001b[0m\u001b[0;34m\u001b[0m\u001b[0m\n\u001b[1;32m     21\u001b[0m     \u001b[0mname\u001b[0m\u001b[0;34m=\u001b[0m\u001b[0;34m'BCGAR (8-bit, linear)'\u001b[0m\u001b[0;34m,\u001b[0m  \u001b[0;31m# Description of device\u001b[0m\u001b[0;34m\u001b[0m\u001b[0;34m\u001b[0m\u001b[0m\n\u001b[0;32m---> 22\u001b[0;31m     \u001b[0mbackground\u001b[0m\u001b[0;34m=\u001b[0m\u001b[0;34m[\u001b[0m\u001b[0;36m.5\u001b[0m\u001b[0;34m]\u001b[0m\u001b[0;34m*\u001b[0m\u001b[0;36m5\u001b[0m\u001b[0;34m\u001b[0m\u001b[0;34m\u001b[0m\u001b[0m\n\u001b[0m\u001b[1;32m     23\u001b[0m ) \n\u001b[1;32m     24\u001b[0m \u001b[0;34m\u001b[0m\u001b[0m\n",
      "\u001b[0;31mTypeError\u001b[0m: __init__() got an unexpected keyword argument 'spds'"
     ]
    }
   ],
   "source": [
    "# Load the calibration data\n",
    "spds = pd.read_csv(\n",
    "    '../data/BCGAR_5_Primary_8_bit_linear.csv', \n",
    "    index_col=['Primary','Setting'])\n",
    "spds.columns = pd.Int64Index(spds.columns.astype(int))\n",
    "spds.columns.name = 'Wavelength'\n",
    "\n",
    "# List of colors for the primaries\n",
    "colors = ['blue', 'cyan', 'green', 'orange', 'red'] \n",
    "\n",
    "\n",
    "ssp = SSP(\n",
    "    resolutions=[255]*5,  # Five 8-bit primaries \n",
    "    colors=colors,  # Colors of the LEDs\n",
    "    spds=spds,  # The calibration data\n",
    "    wavelengths=[380, 781, 1],  # SPD wavelength binwidth\n",
    "    ignore=['R'],  # Ignore rods\n",
    "    silence=['M', 'L', 'I'],  # Silence S-, M-, and L-cones\n",
    "    isolate=['S'],  # Isolate melanopsin\n",
    "    target_contrast=2.,  # Aim for 250% contrast \n",
    "    name='BCGAR (8-bit, linear)',  # Description of device\n",
    "    background=[.5]*5\n",
    ") \n",
    "\n",
    "#spd_fig = ssp.plot_spds()"
   ]
  },
  {
   "cell_type": "code",
   "execution_count": null,
   "id": "be19c9b2-60ef-4f8c-9f03-8ef92641c3a3",
   "metadata": {},
   "outputs": [],
   "source": [
    "# Target contrast vals for modulation\n",
    "contrast_waveform = sinusoid_modulation(f=1, duration=1, Fs=50) * 1.\n",
    "plt.plot(contrast_waveform)\n",
    "peak = np.argmax(contrast_waveform)\n",
    "trough = np.argmin(contrast_waveform)\n",
    "target_contrasts = contrast_waveform[peak:trough+1]\n",
    "plt.plot(np.hstack([target_contrasts, target_contrasts[::-1]]))"
   ]
  },
  {
   "cell_type": "markdown",
   "id": "f1861acb-1533-4e1d-9c50-6caf9029f1a7",
   "metadata": {},
   "source": [
    "S-cone contrast modulation\n",
    "=========================="
   ]
  },
  {
   "cell_type": "code",
   "execution_count": null,
   "id": "106672a5-ae8a-44d0-bc9a-18b53d0093d0",
   "metadata": {},
   "outputs": [],
   "source": [
    "# Calcualte modulation spectra for S-cone modulation\n",
    "contrast_mods = [ssp.linalg_solve([tc, 0, 0, 0]) for tc in target_contrasts]\n",
    "\n",
    "plt.plot(ssp.predict_multiprimary_spd(contrast_mods[0]), lw=1, label='+ve')\n",
    "plt.plot(ssp.predict_multiprimary_spd(ssp.background), lw=1, label='background')\n",
    "plt.plot(ssp.predict_multiprimary_spd(contrast_mods[-1]), lw=1, label='-ve')\n",
    "plt.legend()\n"
   ]
  },
  {
   "cell_type": "markdown",
   "id": "73900afc-3d3a-4a7b-8bec-73e61a09e8e2",
   "metadata": {},
   "source": [
    "Modulation peak\n",
    "---------------"
   ]
  },
  {
   "cell_type": "code",
   "execution_count": null,
   "id": "d76d850f-8c29-4d4c-841e-9ef10e4956f9",
   "metadata": {},
   "outputs": [],
   "source": [
    "ssp.plot_ss_result(contrast_mods[0])\n",
    "contrasts = ssp.get_photoreceptor_contrasts(contrast_mods[0])\n",
    "print(f'S-cone contrast: {contrasts[0]}')\n",
    "print(f'Splatter: {contrasts[1:]}')"
   ]
  },
  {
   "cell_type": "markdown",
   "id": "ca13c658-5a4a-4b86-9771-48507c14baae",
   "metadata": {},
   "source": [
    "Modulation trough\n",
    "-----------------"
   ]
  },
  {
   "cell_type": "code",
   "execution_count": null,
   "id": "8adf70db-a78f-4ad3-93fd-00a5fdcb2544",
   "metadata": {},
   "outputs": [],
   "source": [
    "ssp.plot_ss_result(contrast_mods[-1])\n",
    "contrasts = ssp.get_photoreceptor_contrasts(contrast_mods[-1])\n",
    "print(f'S-cone contrast: {contrasts[0]}')\n",
    "print(f'Splatter: {contrasts[1:]}')"
   ]
  },
  {
   "cell_type": "markdown",
   "id": "a21f74f0-d6fd-4054-ac80-d1b05da6aa6e",
   "metadata": {},
   "source": [
    "Contrast modulations\n",
    "--------------------"
   ]
  },
  {
   "cell_type": "code",
   "execution_count": null,
   "id": "d3e86c80-488b-45b2-84f4-373cb98de0cb",
   "metadata": {},
   "outputs": [],
   "source": [
    "palette = sns.diverging_palette(220, 20, n=len(contrast_mods), l=65, as_cmap=False)\n",
    "bg_spd = ssp.predict_multiprimary_spd(ssp.background)\n",
    "for i, s in enumerate(contrast_mods):\n",
    "    mod_spd = ssp.predict_multiprimary_spd(s) \n",
    "    plt.plot(mod_spd-bg_spd, c=palette[i], lw=1)\n",
    "    \n",
    "plt.xlabel('Wavelength (nm)')\n",
    "plt.ylabel('S-cone contrast (%)');"
   ]
  },
  {
   "cell_type": "code",
   "execution_count": null,
   "id": "054b22ce-0cc9-4098-8631-aec8916fabb8",
   "metadata": {},
   "outputs": [],
   "source": [
    "splatter = [ssp.get_photoreceptor_contrasts(cm) for cm in contrast_mods]\n",
    "splatter = np.vstack(splatter)\n",
    "\n",
    "plt.plot(splatter[:,0], label='S', c='b')\n",
    "plt.plot(splatter[:,1], label='M', c='g')\n",
    "plt.plot(splatter[:,2], label='L', c='r')\n",
    "plt.plot(splatter[:,3], label='R', c='k')\n",
    "plt.plot(splatter[:,4], label='I', c='cyan')\n",
    "plt.ylabel('Simple contrast')\n",
    "plt.legend()"
   ]
  },
  {
   "cell_type": "code",
   "execution_count": null,
   "id": "32d66993-1fcc-42b0-aa9e-e0d808b640f0",
   "metadata": {},
   "outputs": [],
   "source": [
    "background = ssp.predict_multiprimary_spd(ssp.background)\n",
    "background.index"
   ]
  },
  {
   "cell_type": "code",
   "execution_count": null,
   "id": "c4684c43-41a4-496e-8fcf-2e0bd964800b",
   "metadata": {},
   "outputs": [],
   "source": [
    "import numpy as np\n",
    "from matplotlib import pyplot as plt\n",
    "from matplotlib import animation\n",
    "%matplotlib widget\n",
    "\n",
    "background = ssp.predict_multiprimary_spd(ssp.background)\n",
    "contrast_mods = contrast_mods + contrast_mods[::-1]\n",
    "# First set up the figure, the axis, and the plot element we want to animate\n",
    "fig = plt.figure()\n",
    "ax = plt.axes(xlim=(300, 800), ylim=(-.05, .8))\n",
    "bg_spd, = ax.plot([], [], lw=2, color='k', label='Background SPD')\n",
    "spd, = ax.plot([], [], lw=2, color='k', ls=':', label='SPD')\n",
    "p1, = ax.plot([], [], lw=2, color='blue', label='Primary 1')\n",
    "p2, = ax.plot([], [], lw=2, color='cyan', label='Primary 2')\n",
    "p3, = ax.plot([], [], lw=2, color='green', label='Primary 3')\n",
    "p4, = ax.plot([], [], lw=2, color='orange', label='Primary 4')\n",
    "p5, = ax.plot([], [], lw=2, color='red', label='Primary 5')\n",
    "ax.legend()\n",
    "\n",
    "# initialization function: plot the background of each frame\n",
    "\n",
    "def init():\n",
    "    bg_spd.set_data([], [])\n",
    "    spd.set_data([], [])\n",
    "    p1.set_data([], [])\n",
    "    p2.set_data([], [])\n",
    "    p3.set_data([], [])\n",
    "    p4.set_data([], [])\n",
    "    p5.set_data([], []) \n",
    "    return bg_spd, spd, p1, p2, p3, p4, p5,\n",
    "\n",
    "# animation function.  This is called sequentially\n",
    "def animate(i):\n",
    "    primaries = ssp.predict_multiprimary_spd(contrast_mods[i], nosum=True)\n",
    "    spec = ssp.predict_multiprimary_spd(contrast_mods[i])\n",
    "    \n",
    "    a = primaries[0]\n",
    "    b = primaries[1]\n",
    "    c = primaries[2]\n",
    "    d = primaries[3]\n",
    "    e = primaries[4]\n",
    "    \n",
    "    bg_spd.set_data(background.index, background.values)\n",
    "    spd.set_data(background.index, spec.values)\n",
    "    p1.set_data(background.index, a.values)\n",
    "    p2.set_data(background.index, b.values)\n",
    "    p3.set_data(background.index, c.values)\n",
    "    p4.set_data(background.index, d.values)\n",
    "    p5.set_data(background.index, e.values)\n",
    "\n",
    "    return bg_spd, spd, p1, p2, p3, p4, p5,\n",
    "\n",
    "# call the animator.  blit=True means only re-draw the parts that have changed.\n",
    "anim = animation.FuncAnimation(fig, animate, init_func=init,\n",
    "                               frames=len(contrast_mods), \n",
    "                               interval=20, blit=True)\n",
    "\n",
    "\n",
    "# save the animation as an mp4.  This requires ffmpeg or mencoder to be\n",
    "# installed.  The extra_args ensure that the x264 codec is used, so that\n",
    "# the video can be embedded in html5.  You may need to adjust this for\n",
    "# your system: for more information, see\n",
    "# http://matplotlib.sourceforge.net/api/animation_api.html\n",
    "anim.save('basic_animation.mp4', fps=30, extra_args=['-vcodec', 'libx264'])\n",
    "anim.save('basic_animation.gif', fps=30, writer='imagemagick')\n",
    "\n",
    "plt.show()"
   ]
  },
  {
   "cell_type": "code",
   "execution_count": null,
   "id": "a226fff6-9380-465e-90ba-106669c80244",
   "metadata": {},
   "outputs": [],
   "source": []
  }
 ],
 "metadata": {
  "kernelspec": {
   "display_name": "Python 3 (ipykernel)",
   "language": "python",
   "name": "python3"
  },
  "language_info": {
   "codemirror_mode": {
    "name": "ipython",
    "version": 3
   },
   "file_extension": ".py",
   "mimetype": "text/x-python",
   "name": "python",
   "nbconvert_exporter": "python",
   "pygments_lexer": "ipython3",
   "version": "3.10.9"
  }
 },
 "nbformat": 4,
 "nbformat_minor": 5
}
