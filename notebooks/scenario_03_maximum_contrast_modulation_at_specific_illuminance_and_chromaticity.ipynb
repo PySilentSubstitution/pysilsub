{
 "cells": [
  {
   "cell_type": "markdown",
   "id": "e688e477-7d60-45a8-8688-2479600010db",
   "metadata": {},
   "source": [
    "Maximum contrast modulation at specific illuminance and chromaticity\n",
    "===================================================================="
   ]
  },
  {
   "cell_type": "code",
   "execution_count": null,
   "id": "3ef5e379-79c8-447a-8e49-9a6eb2623fc6",
   "metadata": {},
   "outputs": [],
   "source": []
  }
 ],
 "metadata": {
  "kernelspec": {
   "display_name": "",
   "name": ""
  },
  "language_info": {
   "name": ""
  }
 },
 "nbformat": 4,
 "nbformat_minor": 5
}
