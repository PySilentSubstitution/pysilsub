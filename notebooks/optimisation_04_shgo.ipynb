{
 "cells": [
  {
   "cell_type": "markdown",
   "id": "7abb5e59-f56d-4aa1-842c-2a44da194ca1",
   "metadata": {},
   "source": [
    "SHGO - Simplicial HOmological Global Optimisation\n",
    "=================================================\n",
    "\n",
    "Knowledge \n",
    "- https://stefan-endres.github.io/shgo/"
   ]
  },
  {
   "cell_type": "markdown",
   "id": "10df1d23-3603-4993-9776-dfdd84a04639",
   "metadata": {},
   "source": [
    "Basic example with rosenbrock\n",
    "-----------------------------"
   ]
  },
  {
   "cell_type": "code",
   "execution_count": 3,
   "id": "9da94179-2dfe-4010-8d1e-a17b5e41a033",
   "metadata": {},
   "outputs": [
    {
     "data": {
      "text/plain": [
       "(array([1., 1.]), 3.658411273465293e-19)"
      ]
     },
     "execution_count": 3,
     "metadata": {},
     "output_type": "execute_result"
    }
   ],
   "source": [
    "from scipy.optimize import rosen, shgo\n",
    "bounds = [(0,2), (0, 2)]\n",
    "result = shgo(rosen, bounds)\n",
    "result.x, result.fun\n"
   ]
  },
  {
   "cell_type": "code",
   "execution_count": 4,
   "id": "90a9cc5b-52c4-47b0-93ea-b19ba115cbb7",
   "metadata": {},
   "outputs": [],
   "source": [
    "import sys\n",
    "sys.path.insert(0, '../')\n",
    "import random\n",
    "\n",
    "import numpy as np\n",
    "import matplotlib.pyplot as plt\n",
    "import seaborn as sns\n",
    "import pandas as pd\n",
    "from scipy.optimize import shgo, minimize, Bounds\n",
    "from scipy.interpolate import interp1d\n",
    "\n",
    "from silentsub.device import StimulationDevice\n",
    "from silentsub.plotting import stim_plot\n",
    "from silentsub.CIE import get_CIES026\n",
    "\n",
    "sns.set_context('notebook')\n",
    "sns.set_style('whitegrid')\n"
   ]
  },
  {
   "cell_type": "markdown",
   "id": "3be1aee9-097c-49d3-8c62-9d0dbcadc32b",
   "metadata": {},
   "source": [
    "Load the data with `StimulationDevice`\n",
    "--------------------------------------"
   ]
  },
  {
   "cell_type": "code",
   "execution_count": 5,
   "id": "f5214505-1a15-49a7-a1ee-f9e574717385",
   "metadata": {},
   "outputs": [],
   "source": [
    "spds = pd.read_csv('../data/S2_corrected_oo_spectra.csv', index_col=['led','intensity'])\n",
    "spds.index.rename(['Primary', 'Setting'], inplace=True)\n",
    "spds.columns = pd.Int64Index(spds.columns.astype(int))\n",
    "\n",
    "# list of colors for the primaries\n",
    "colors = ['blueviolet', 'royalblue', 'darkblue', 'blue', 'cyan', \n",
    "          'green', 'lime', 'orange', 'red', 'darkred']\n",
    "\n",
    "# instantiate the class\n",
    "device = StimulationDevice(\n",
    "    resolutions=[4095]*10,\n",
    "    colors=colors,\n",
    "    spds=spds,\n",
    "    spd_binwidth=1)"
   ]
  },
  {
   "cell_type": "markdown",
   "id": "f7a7da0a-2c21-4dcf-a875-b7565f6a9811",
   "metadata": {},
   "source": [
    "Define optimisation problem\n",
    "---------------------------\n",
    "\n",
    "This is the 'basic' optimisation where we aim to maximise melanopic contrast whilst keeping cone contrast at zero."
   ]
  },
  {
   "cell_type": "code",
   "execution_count": 6,
   "id": "9a979212-c184-4b18-8a18-01b731189cac",
   "metadata": {},
   "outputs": [],
   "source": [
    "class OptimisationProblem:\n",
    "    def __init__(self, aopic):\n",
    "        self.aopic = aopic\n",
    "\n",
    "    def smlri_calculator(self, weights):\n",
    "        '''Calculates a-opic irradiance for the given weights.\n",
    "        The first 10 values in weights define the background\n",
    "        spectrum and the second 10 values define the modulation'''\n",
    "        background = weights[0:10]\n",
    "        modulation = weights[10:20]\n",
    "        bg_smlri = 0\n",
    "        mod_smlri = 0\n",
    "        for led in range(10):\n",
    "            x = self.aopic.loc[led].index / 4095\n",
    "            y = self.aopic.loc[led]\n",
    "            f = interp1d(x, y, axis=0, fill_value='extrapolate')\n",
    "            bg_smlri += f(background[led])\n",
    "            mod_smlri += f(modulation[led])\n",
    "        return (pd.Series(bg_smlri, index=self.aopic.columns, name='Background'),\n",
    "                pd.Series(mod_smlri, index=self.aopic.columns, name='Modulation'))\n",
    "\n",
    "    def objective_function(self, weights):\n",
    "        '''Calculates negative melanopsin contrast for background\n",
    "        and modulation spectra. We want to minimise this.'''\n",
    "        bg_smlri, mod_smlri = self.smlri_calculator(weights)\n",
    "        contrast = (mod_smlri.I-bg_smlri.I) / bg_smlri.I\n",
    "        return -contrast\n",
    "\n",
    "    def cone_contrast_constraint_function(self, weights):\n",
    "        '''Calculates S-, M-, and L-opic contrast for background\n",
    "        and modulation spectra. We want to this to be zero'''\n",
    "        bg_smlri, mod_smlri = self.smlri_calculator(weights)\n",
    "        contrast = np.array([(mod_smlri.S-bg_smlri.S) / bg_smlri.S,\n",
    "                             (mod_smlri.M-bg_smlri.M) / bg_smlri.M,\n",
    "                             (mod_smlri.L-bg_smlri.L) / bg_smlri.L])\n",
    "        return contrast\n",
    "\n",
    "    def weights_to_settings(self, weights):\n",
    "        '''Turns weights to 12-bit STLAB settings.'''\n",
    "        return ([int(val*4095) for val in weights[0:10]],\n",
    "                [int(val*4095) for val in weights[10:20]])"
   ]
  },
  {
   "cell_type": "markdown",
   "id": "95ba44c3-bebb-46e9-8003-a389f6f10491",
   "metadata": {},
   "source": [
    "Do optimisation\n",
    "---------------"
   ]
  },
  {
   "cell_type": "code",
   "execution_count": 10,
   "id": "44fb9df3-cee5-44af-b5b4-6baa9608d693",
   "metadata": {},
   "outputs": [
    {
     "name": "stdout",
     "output_type": "stream",
     "text": [
      "Splitting first generation\n",
      "Generating sampling points\n",
      "Generating sampling points\n",
      "Constructing Gabrial graph and minimizer pool\n",
      "Triangulation completed, building minimizer pool\n",
      "Starting minimization at [ 0.546875  0.765625  0.203125  0.046875  0.640625  0.421875  0.296875\n",
      "  0.171875  0.484375  0.546875  0.890625  0.453125  0.953125  0.484375\n",
      "  0.484375  0.609375  0.671875  0.546875  0.921875  0.015625]...\n",
      "bounds in kwarg:\n",
      "[[0.0, 1.0], [0.0, 1.0], [0.0, 1.0], [0.0, 1.0], [0.0, 1.0], [0.0, 1.0], [0.0, 1.0], [0.0, 1.0], [0.0, 1.0], [0.0, 1.0], [0.0, 1.0], [0.0, 1.0], [0.0, 1.0], [0.0, 1.0], [0.0, 1.0], [0.0, 1.0], [0.0, 1.0], [0.0, 1.0], [0.0, 1.0], [0.0, 1.0]]\n",
      "lres =      fun: -0.97535904494403058\n",
      "     jac: array([  9.54065621e-02,   1.54105686e-01,   8.39143306e-01,\n",
      "         9.47438888e-01,   4.98879656e-01,   3.41758974e-01,\n",
      "         1.13285078e+00,   4.50833142e-03,   5.55947423e-04,\n",
      "         9.24378633e-04,  -9.88071337e-02,  -3.92996155e-01,\n",
      "        -8.35061073e-02,  -3.63096558e-01,  -4.97890212e-01,\n",
      "        -6.44648820e-02,  -1.07514396e-01,  -6.79545179e-02,\n",
      "         1.49513036e-02,   1.63163990e-02])\n",
      " message: 'Iteration limit reached'\n",
      "    nfev: 2362\n",
      "     nit: 100\n",
      "    njev: 100\n",
      "  status: 9\n",
      " success: False\n",
      "       x: array([  8.58446426e-01,   8.06722346e-01,   1.42173388e-16,\n",
      "         7.21071272e-18,   2.52620135e-16,   1.58730092e-02,\n",
      "         7.99740626e-01,   2.44778326e-03,   5.41891045e-18,\n",
      "         1.24916363e-01,   4.33950983e-05,   6.51872548e-03,\n",
      "         9.99532595e-01,   7.93666767e-01,   9.52807955e-01,\n",
      "         2.65053268e-17,   2.45469193e-16,   2.83450263e-01,\n",
      "         9.66166679e-01,   9.79369324e-01])\n",
      "Successfully completed construction of complex.\n"
     ]
    }
   ],
   "source": [
    "# A random starting point for the optimisation\n",
    "# x0 = np.random.rand(1, 20)[0] # don't think we need this\n",
    "\n",
    "op = OptimisationProblem(device.aopic)\n",
    "\n",
    "constraints = ({\n",
    "    'type': 'eq',\n",
    "    'fun': lambda x: op.cone_contrast_constraint_function(x)\n",
    "})\n",
    "\n",
    "# The bounds should be between 0-1, otherwise we are outside the\n",
    "# gamut of the device\n",
    "bounds = [(0, 1.),] * 20\n",
    "\n",
    "# Plotting func\n",
    "\n",
    "# Callback function to give info on all minima found and\n",
    "# call off the search when we hit a target melanopic contrast\n",
    "def print_fun(xk):\n",
    "    print(xk)\n",
    "\n",
    "minimizer_kwargs = {\n",
    "    'method': 'SLSQP',\n",
    "    'bounds': bounds,\n",
    "    'options': {'maxiter': 100},\n",
    "    'constraints': constraints\n",
    "}\n",
    "    \n",
    "# Do Shgo\n",
    "res = shgo(\n",
    "    func=op.objective_function,\n",
    "    args=(),\n",
    "    bounds=bounds,\n",
    "    n=10,\n",
    "    iters=3,\n",
    "    callback=None,\n",
    "    constraints=constraints,\n",
    "    minimizer_kwargs=minimizer_kwargs,\n",
    "    options={'disp': True},\n",
    "    sampling_method='sobol'\n",
    ")"
   ]
  },
  {
   "cell_type": "code",
   "execution_count": 11,
   "id": "4a44d276-7f86-4dc7-9a3f-6c3e5447e17c",
   "metadata": {},
   "outputs": [
    {
     "data": {
      "image/png": "[encoded data removed]",
      "text/plain": [
       "<Figure size 432x288 with 1 Axes>"
      ]
     },
     "metadata": {},
     "output_type": "display_data"
    }
   ],
   "source": [
    "def plot_solution(background, modulation):\n",
    "    df = (\n",
    "        pd.concat([background, modulation], axis=1)\n",
    "        .T.melt(\n",
    "            value_name='aopic',\n",
    "            var_name='Photoreceptor',\n",
    "            ignore_index=False)\n",
    "        .reset_index()\n",
    "        .rename(\n",
    "            columns={'index': 'Spectrum'})\n",
    "         )\n",
    "    sns.barplot(data=df, x='Photoreceptor', y='aopic', hue='Spectrum')\n",
    "    \n",
    "b, m = op.smlri_calculator(res.x)\n",
    "plot_solution(b, m)"
   ]
  },
  {
   "cell_type": "code",
   "execution_count": null,
   "id": "9cf0f28b-82ea-4776-8f09-a310dd6e11c1",
   "metadata": {},
   "outputs": [],
   "source": []
  }
 ],
 "metadata": {
  "kernelspec": {
   "display_name": "Python 3 (ipykernel)",
   "language": "python",
   "name": "python3"
  },
  "language_info": {
   "codemirror_mode": {
    "name": "ipython",
    "version": 3
   },
   "file_extension": ".py",
   "mimetype": "text/x-python",
   "name": "python",
   "nbconvert_exporter": "python",
   "pygments_lexer": "ipython3",
   "version": "3.7.7"
  }
 },
 "nbformat": 4,
 "nbformat_minor": 5
}
