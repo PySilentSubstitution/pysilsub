{
 "cells": [
  {
   "cell_type": "markdown",
   "id": "db9a5823-4281-4bb5-a9d6-01a8cba68f3c",
   "metadata": {},
   "source": [
    "Target contrast modulation at specified illuminance and chromaticity\n",
    "===================================================================="
   ]
  },
  {
   "cell_type": "code",
   "execution_count": null,
   "id": "7b521e6f-e309-4b04-9142-afb17fa53d8e",
   "metadata": {},
   "outputs": [],
   "source": []
  }
 ],
 "metadata": {
  "kernelspec": {
   "display_name": "Python 3 (ipykernel)",
   "language": "python",
   "name": "python3"
  },
  "language_info": {
   "codemirror_mode": {
    "name": "ipython",
    "version": 3
   },
   "file_extension": ".py",
   "mimetype": "text/x-python",
   "name": "python",
   "nbconvert_exporter": "python",
   "pygments_lexer": "ipython3",
   "version": "3.7.7"
  }
 },
 "nbformat": 4,
 "nbformat_minor": 5
}
