{
 "cells": [
  {
   "cell_type": "code",
   "execution_count": 3,
   "id": "f9e62699-33b4-41a7-81e6-802a3c7461fc",
   "metadata": {},
   "outputs": [],
   "source": [
    "import numpy as np\n",
    "import pandas as pd\n",
    "import matplotlib.pyplot as plt\n",
    "import seaborn as sns\n",
    "\n",
    "from pysilsub.problems import SilentSubstitutionProblem as SSP\n",
    "from pysilsub.CIE import get_CIES026_action_spectra"
   ]
  },
  {
   "cell_type": "code",
   "execution_count": 4,
   "id": "640dc065-80c5-4ed5-bb98-b5e7134085d3",
   "metadata": {},
   "outputs": [],
   "source": [
    "# Functions for stimulus waveform\n",
    "def get_time_vector(duration):\n",
    "    t = np.arange(0, (duration*1000), 10).astype(\"int\")\n",
    "    return t\n",
    "\n",
    "\n",
    "def sinusoid_modulation(f, duration, Fs=50):\n",
    "    x = np.arange(duration * Fs)\n",
    "    sm = np.sin(2 * np.pi * f * x / Fs)\n",
    "    return sm\n",
    "\n",
    "\n",
    "def modulate_intensity_amplitude(sm, background, amplitude):\n",
    "    ivals = (background + (sm*amplitude)).astype(\"int\")\n",
    "    return ivals"
   ]
  },
  {
   "cell_type": "code",
   "execution_count": 5,
   "id": "7e39930f-798e-417d-b19d-921a1da14e5c",
   "metadata": {},
   "outputs": [
    {
     "name": "stderr",
     "output_type": "stream",
     "text": [
      "/var/folders/c9/7yddvl1n2ss863cgfngj0wpm0000gp/T/ipykernel_58055/1990463534.py:5: FutureWarning: pandas.Int64Index is deprecated and will be removed from pandas in a future version. Use pandas.Index with the appropriate dtype instead.\n",
      "  spds.columns = pd.Int64Index(spds.columns.astype(int))\n"
     ]
    },
    {
     "ename": "TypeError",
     "evalue": "SilentSubstitutionProblem.__init__() got an unexpected keyword argument 'resolutions'",
     "output_type": "error",
     "traceback": [
      "\u001b[0;31m---------------------------------------------------------------------------\u001b[0m",
      "\u001b[0;31mTypeError\u001b[0m                                 Traceback (most recent call last)",
      "Cell \u001b[0;32mIn[5], line 12\u001b[0m\n\u001b[1;32m      8\u001b[0m \u001b[38;5;66;03m# List of colors for the primaries\u001b[39;00m\n\u001b[1;32m      9\u001b[0m colors \u001b[38;5;241m=\u001b[39m [\u001b[38;5;124m'\u001b[39m\u001b[38;5;124mblue\u001b[39m\u001b[38;5;124m'\u001b[39m, \u001b[38;5;124m'\u001b[39m\u001b[38;5;124mcyan\u001b[39m\u001b[38;5;124m'\u001b[39m, \u001b[38;5;124m'\u001b[39m\u001b[38;5;124mgreen\u001b[39m\u001b[38;5;124m'\u001b[39m, \u001b[38;5;124m'\u001b[39m\u001b[38;5;124morange\u001b[39m\u001b[38;5;124m'\u001b[39m, \u001b[38;5;124m'\u001b[39m\u001b[38;5;124mred\u001b[39m\u001b[38;5;124m'\u001b[39m] \n\u001b[0;32m---> 12\u001b[0m ssp \u001b[38;5;241m=\u001b[39m \u001b[43mSSP\u001b[49m\u001b[43m(\u001b[49m\n\u001b[1;32m     13\u001b[0m \u001b[43m    \u001b[49m\u001b[43mresolutions\u001b[49m\u001b[38;5;241;43m=\u001b[39;49m\u001b[43m[\u001b[49m\u001b[38;5;241;43m255\u001b[39;49m\u001b[43m]\u001b[49m\u001b[38;5;241;43m*\u001b[39;49m\u001b[38;5;241;43m5\u001b[39;49m\u001b[43m,\u001b[49m\u001b[43m  \u001b[49m\u001b[38;5;66;43;03m# Five 8-bit primaries \u001b[39;49;00m\n\u001b[1;32m     14\u001b[0m \u001b[43m    \u001b[49m\u001b[43mcolors\u001b[49m\u001b[38;5;241;43m=\u001b[39;49m\u001b[43mcolors\u001b[49m\u001b[43m,\u001b[49m\u001b[43m  \u001b[49m\u001b[38;5;66;43;03m# Colors of the LEDs\u001b[39;49;00m\n\u001b[1;32m     15\u001b[0m \u001b[43m    \u001b[49m\u001b[43mspds\u001b[49m\u001b[38;5;241;43m=\u001b[39;49m\u001b[43mspds\u001b[49m\u001b[43m,\u001b[49m\u001b[43m  \u001b[49m\u001b[38;5;66;43;03m# The calibration data\u001b[39;49;00m\n\u001b[1;32m     16\u001b[0m \u001b[43m    \u001b[49m\u001b[43mwavelengths\u001b[49m\u001b[38;5;241;43m=\u001b[39;49m\u001b[43m[\u001b[49m\u001b[38;5;241;43m380\u001b[39;49m\u001b[43m,\u001b[49m\u001b[43m \u001b[49m\u001b[38;5;241;43m781\u001b[39;49m\u001b[43m,\u001b[49m\u001b[43m \u001b[49m\u001b[38;5;241;43m1\u001b[39;49m\u001b[43m]\u001b[49m\u001b[43m,\u001b[49m\u001b[43m  \u001b[49m\u001b[38;5;66;43;03m# SPD wavelength binwidth\u001b[39;49;00m\n\u001b[1;32m     17\u001b[0m \u001b[43m    \u001b[49m\u001b[43mignore\u001b[49m\u001b[38;5;241;43m=\u001b[39;49m\u001b[43m[\u001b[49m\u001b[38;5;124;43m'\u001b[39;49m\u001b[38;5;124;43mR\u001b[39;49m\u001b[38;5;124;43m'\u001b[39;49m\u001b[43m]\u001b[49m\u001b[43m,\u001b[49m\u001b[43m  \u001b[49m\u001b[38;5;66;43;03m# Ignore rods\u001b[39;49;00m\n\u001b[1;32m     18\u001b[0m \u001b[43m    \u001b[49m\u001b[43msilence\u001b[49m\u001b[38;5;241;43m=\u001b[39;49m\u001b[43m[\u001b[49m\u001b[38;5;124;43m'\u001b[39;49m\u001b[38;5;124;43mM\u001b[39;49m\u001b[38;5;124;43m'\u001b[39;49m\u001b[43m,\u001b[49m\u001b[43m \u001b[49m\u001b[38;5;124;43m'\u001b[39;49m\u001b[38;5;124;43mL\u001b[39;49m\u001b[38;5;124;43m'\u001b[39;49m\u001b[43m,\u001b[49m\u001b[43m \u001b[49m\u001b[38;5;124;43m'\u001b[39;49m\u001b[38;5;124;43mI\u001b[39;49m\u001b[38;5;124;43m'\u001b[39;49m\u001b[43m]\u001b[49m\u001b[43m,\u001b[49m\u001b[43m  \u001b[49m\u001b[38;5;66;43;03m# Silence S-, M-, and L-cones\u001b[39;49;00m\n\u001b[1;32m     19\u001b[0m \u001b[43m    \u001b[49m\u001b[43misolate\u001b[49m\u001b[38;5;241;43m=\u001b[39;49m\u001b[43m[\u001b[49m\u001b[38;5;124;43m'\u001b[39;49m\u001b[38;5;124;43mS\u001b[39;49m\u001b[38;5;124;43m'\u001b[39;49m\u001b[43m]\u001b[49m\u001b[43m,\u001b[49m\u001b[43m  \u001b[49m\u001b[38;5;66;43;03m# Isolate melanopsin\u001b[39;49;00m\n\u001b[1;32m     20\u001b[0m \u001b[43m    \u001b[49m\u001b[43mtarget_contrast\u001b[49m\u001b[38;5;241;43m=\u001b[39;49m\u001b[38;5;241;43m2.\u001b[39;49m\u001b[43m,\u001b[49m\u001b[43m  \u001b[49m\u001b[38;5;66;43;03m# Aim for 250% contrast \u001b[39;49;00m\n\u001b[1;32m     21\u001b[0m \u001b[43m    \u001b[49m\u001b[43mname\u001b[49m\u001b[38;5;241;43m=\u001b[39;49m\u001b[38;5;124;43m'\u001b[39;49m\u001b[38;5;124;43mBCGAR (8-bit, linear)\u001b[39;49m\u001b[38;5;124;43m'\u001b[39;49m\u001b[43m,\u001b[49m\u001b[43m  \u001b[49m\u001b[38;5;66;43;03m# Description of device\u001b[39;49;00m\n\u001b[1;32m     22\u001b[0m \u001b[43m    \u001b[49m\u001b[43mbackground\u001b[49m\u001b[38;5;241;43m=\u001b[39;49m\u001b[43m[\u001b[49m\u001b[38;5;241;43m.5\u001b[39;49m\u001b[43m]\u001b[49m\u001b[38;5;241;43m*\u001b[39;49m\u001b[38;5;241;43m5\u001b[39;49m\n\u001b[1;32m     23\u001b[0m \u001b[43m)\u001b[49m\n",
      "\u001b[0;31mTypeError\u001b[0m: SilentSubstitutionProblem.__init__() got an unexpected keyword argument 'resolutions'"
     ]
    }
   ],
   "source": [
    "# Load the calibration data\n",
    "spds = pd.read_csv(\n",
    "    '../data/BCGAR_5_Primary_8_bit_linear.csv', \n",
    "    index_col=['Primary','Setting'])\n",
    "spds.columns = pd.Int64Index(spds.columns.astype(int))\n",
    "spds.columns.name = 'Wavelength'\n",
    "\n",
    "# List of colors for the primaries\n",
    "colors = ['blue', 'cyan', 'green', 'orange', 'red'] \n",
    "\n",
    "\n",
    "ssp = SSP(\n",
    "    resolutions=[255]*5,  # Five 8-bit primaries \n",
    "    colors=colors,  # Colors of the LEDs\n",
    "    spds=spds,  # The calibration data\n",
    "    wavelengths=[380, 781, 1],  # SPD wavelength binwidth\n",
    "    ignore=['R'],  # Ignore rods\n",
    "    silence=['M', 'L', 'I'],  # Silence S-, M-, and L-cones\n",
    "    isolate=['S'],  # Isolate melanopsin\n",
    "    target_contrast=2.,  # Aim for 250% contrast \n",
    "    name='BCGAR (8-bit, linear)',  # Description of device\n",
    "    background=[.5]*5\n",
    ") \n",
    "\n",
    "#spd_fig = ssp.plot_spds()"
   ]
  },
  {
   "cell_type": "code",
   "execution_count": 6,
   "id": "898d9a19-6741-415c-a301-dd48101711f2",
   "metadata": {},
   "outputs": [
    {
     "data": {
      "text/plain": [
       "[<matplotlib.lines.Line2D at 0x7fb600557ad0>]"
      ]
     },
     "execution_count": 6,
     "metadata": {},
     "output_type": "execute_result"
    },
    {
     "data": {
      "image/png": "[encoded data removed]",
      "text/plain": [
       "<Figure size 432x288 with 1 Axes>"
      ]
     },
     "metadata": {
      "needs_background": "light"
     },
     "output_type": "display_data"
    }
   ],
   "source": [
    "# Target contrast vals for modulation\n",
    "contrast_waveform = sinusoid_modulation(f=1, duration=1, Fs=50) * 1.\n",
    "plt.plot(contrast_waveform)\n",
    "peak = np.argmax(contrast_waveform)\n",
    "trough = np.argmin(contrast_waveform)\n",
    "target_contrasts = contrast_waveform[peak:trough+1]\n",
    "plt.plot(np.hstack([target_contrasts, target_contrasts[::-1]]))"
   ]
  },
  {
   "cell_type": "markdown",
   "id": "48d355e5-8e34-4b9e-82e4-dc56b74c7b99",
   "metadata": {},
   "source": [
    "S-cone contrast modulation\n",
    "=========================="
   ]
  },
  {
   "cell_type": "code",
   "execution_count": 7,
   "id": "6a1ee422-210f-44f2-b9cd-e7a40ad1affb",
   "metadata": {},
   "outputs": [
    {
     "data": {
      "text/plain": [
       "<matplotlib.legend.Legend at 0x7fb5f39fce90>"
      ]
     },
     "execution_count": 7,
     "metadata": {},
     "output_type": "execute_result"
    },
    {
     "data": {
      "image/png": "[encoded data removed]",
      "text/plain": [
       "<Figure size 432x288 with 1 Axes>"
      ]
     },
     "metadata": {
      "needs_background": "light"
     },
     "output_type": "display_data"
    }
   ],
   "source": [
    "# Calcualte modulation spectra for S-cone modulation\n",
    "contrast_mods = [ssp.linalg_solve([tc, 0, 0, 0]) for tc in target_contrasts]\n",
    "\n",
    "plt.plot(ssp.predict_multiprimary_spd(contrast_mods[0]), lw=1, label='+ve')\n",
    "plt.plot(ssp.predict_multiprimary_spd(ssp.background), lw=1, label='background')\n",
    "plt.plot(ssp.predict_multiprimary_spd(contrast_mods[-1]), lw=1, label='-ve')\n",
    "plt.legend()\n"
   ]
  },
  {
   "cell_type": "markdown",
   "id": "9d9e5ed6-61d9-4633-bbd8-abc54706e2ba",
   "metadata": {},
   "source": [
    "Modulation peak\n",
    "---------------"
   ]
  },
  {
   "cell_type": "code",
   "execution_count": null,
   "id": "ccb33229-9c34-4e9e-945f-13107edd3de9",
   "metadata": {},
   "outputs": [],
   "source": [
    "ssp.plot_ss_result(contrast_mods[0])\n",
    "contrasts = ssp.get_photoreceptor_contrasts(contrast_mods[0])\n",
    "print(f'S-cone contrast: {contrasts[0]}')\n",
    "print(f'Splatter: {contrasts[1:]}')"
   ]
  },
  {
   "cell_type": "markdown",
   "id": "6795f3d3-e403-4ef5-9e57-61de0f4760a6",
   "metadata": {},
   "source": [
    "Modulation trough\n",
    "-----------------"
   ]
  },
  {
   "cell_type": "code",
   "execution_count": null,
   "id": "fb2d912f-4be6-48cd-b2de-207dc1413eef",
   "metadata": {},
   "outputs": [],
   "source": [
    "ssp.plot_ss_result(contrast_mods[-1])\n",
    "contrasts = ssp.get_photoreceptor_contrasts(contrast_mods[-1])\n",
    "print(f'S-cone contrast: {contrasts[0]}')\n",
    "print(f'Splatter: {contrasts[1:]}')"
   ]
  },
  {
   "cell_type": "markdown",
   "id": "2411ed7c-93b9-45cf-920e-72b2e8a0ce79",
   "metadata": {},
   "source": [
    "Contrast modulations\n",
    "--------------------"
   ]
  },
  {
   "cell_type": "code",
   "execution_count": null,
   "id": "6a8c9c20-a65c-4481-8f59-e5838f538e53",
   "metadata": {},
   "outputs": [],
   "source": [
    "palette = sns.diverging_palette(220, 20, n=len(contrast_mods), l=65, as_cmap=False)\n",
    "bg_spd = ssp.predict_multiprimary_spd(ssp.background)\n",
    "for i, s in enumerate(contrast_mods):\n",
    "    mod_spd = ssp.predict_multiprimary_spd(s) \n",
    "    plt.plot(mod_spd-bg_spd, c=palette[i], lw=1)\n",
    "    \n",
    "plt.xlabel('Wavelength (nm)')\n",
    "plt.ylabel('S-cone contrast (%)');"
   ]
  },
  {
   "cell_type": "code",
   "execution_count": null,
   "id": "04ff74cc-4fa6-4d1d-9c5b-5da86a86c71a",
   "metadata": {},
   "outputs": [],
   "source": [
    "splatter = [ssp.get_photoreceptor_contrasts(cm) for cm in contrast_mods]\n",
    "splatter = np.vstack(splatter)\n",
    "\n",
    "plt.plot(splatter[:,0], label='S', c='b')\n",
    "plt.plot(splatter[:,1], label='M', c='g')\n",
    "plt.plot(splatter[:,2], label='L', c='r')\n",
    "plt.plot(splatter[:,3], label='R', c='k')\n",
    "plt.plot(splatter[:,4], label='I', c='cyan')\n",
    "plt.ylabel('Simple contrast')\n",
    "plt.legend()"
   ]
  },
  {
   "cell_type": "markdown",
   "id": "eeb50243-bb52-48ea-8755-10af79582c41",
   "metadata": {
    "tags": []
   },
   "source": [
    "Melanopsin\n",
    "----------"
   ]
  },
  {
   "cell_type": "code",
   "execution_count": null,
   "id": "07619564-df02-4b8e-b0d1-9a4523bb5c9b",
   "metadata": {},
   "outputs": [],
   "source": [
    "contrast_waveform = sinusoid_modulation(f=1, duration=1, Fs=50) * .7\n",
    "plt.plot(contrast_waveform)\n",
    "peak = np.argmax(contrast_waveform)\n",
    "trough = np.argmin(contrast_waveform)\n",
    "target_contrasts = contrast_waveform[peak:trough+1]\n",
    "plt.plot(np.hstack([target_contrasts, target_contrasts[::-1]]))"
   ]
  },
  {
   "cell_type": "code",
   "execution_count": null,
   "id": "5fd69c78-9ed2-4b34-ab74-ca6d93e1cd7c",
   "metadata": {},
   "outputs": [],
   "source": [
    "ssp.isolate = ['I']\n",
    "ssp.silence = ['S', 'M', 'L']\n",
    "\n",
    "contrast_mods = [ssp.linalg_solve([0, 0, 0, tc]) for tc in target_contrasts]\n",
    "plt.plot(ssp.predict_multiprimary_spd(contrast_mods[0]), lw=1, label='+ve')\n",
    "plt.plot(ssp.predict_multiprimary_spd(ssp.background), lw=1, label='background')\n",
    "plt.plot(ssp.predict_multiprimary_spd(contrast_mods[-1]), lw=1, label='-ve')\n",
    "plt.legend()"
   ]
  },
  {
   "cell_type": "code",
   "execution_count": null,
   "id": "ac8bb972-0a1b-4515-a51b-937156e30efd",
   "metadata": {},
   "outputs": [],
   "source": [
    "palette = sns.diverging_palette(220, 20, n=len(contrast_mods), l=65, as_cmap=False)\n",
    "bg_spd = ssp.predict_multiprimary_spd(ssp.background)\n",
    "for i, s in enumerate(contrast_mods):\n",
    "    mod_spd = ssp.predict_multiprimary_spd(s) \n",
    "    plt.plot(mod_spd-bg_spd, c=palette[i], lw=1)\n",
    "    \n",
    "plt.xlabel('Wavelength (nm)')\n",
    "plt.ylabel('S-cone contrast (%)');"
   ]
  },
  {
   "cell_type": "code",
   "execution_count": null,
   "id": "fea3d702-7214-4bed-9a01-c82d4dae55c8",
   "metadata": {},
   "outputs": [],
   "source": [
    "splatter = [ssp.get_photoreceptor_contrasts(cm) for cm in contrast_mods]\n",
    "splatter = np.vstack(splatter)\n",
    "\n",
    "plt.plot(splatter[:,0], label='S', c='b')\n",
    "plt.plot(splatter[:,1], label='M', c='g')\n",
    "plt.plot(splatter[:,2], label='L', c='r')\n",
    "plt.plot(splatter[:,3], label='R', c='k')\n",
    "plt.plot(splatter[:,4], label='I', c='cyan')\n",
    "plt.ylabel('Simple contrast')\n",
    "plt.legend()"
   ]
  },
  {
   "cell_type": "markdown",
   "id": "e2b137e3-00a4-4630-8f3b-ab20d628b30a",
   "metadata": {},
   "source": [
    "M-cone\n",
    "------"
   ]
  },
  {
   "cell_type": "code",
   "execution_count": null,
   "id": "de96770b-a390-4492-a3c6-56ba969b62c2",
   "metadata": {},
   "outputs": [],
   "source": [
    "contrast_waveform = sinusoid_modulation(f=1, duration=1, Fs=50) * .5\n",
    "plt.plot(contrast_waveform)\n",
    "peak = np.argmax(contrast_waveform)\n",
    "trough = np.argmin(contrast_waveform)\n",
    "target_contrasts = contrast_waveform[peak:trough+1]\n",
    "plt.plot(np.hstack([target_contrasts, target_contrasts[::-1]]))"
   ]
  },
  {
   "cell_type": "code",
   "execution_count": null,
   "id": "8b989998-edbd-4fb9-9a48-81b82e78ab0f",
   "metadata": {},
   "outputs": [],
   "source": [
    "ssp.isolate = ['M']\n",
    "ssp.silence = ['S', 'L', 'I']\n",
    "\n",
    "contrast_mods = [ssp.linalg_solve([0, tc, 0, 0]) for tc in target_contrasts]\n",
    "plt.plot(ssp.predict_multiprimary_spd(contrast_mods[0]), lw=1, label='+ve')\n",
    "plt.plot(ssp.predict_multiprimary_spd(ssp.background), lw=1, label='background')\n",
    "plt.plot(ssp.predict_multiprimary_spd(contrast_mods[-1]), lw=1, label='-ve')\n",
    "plt.legend()"
   ]
  },
  {
   "cell_type": "code",
   "execution_count": null,
   "id": "bfae1729-f1f0-45ed-baa6-2ecdc3367554",
   "metadata": {},
   "outputs": [],
   "source": [
    "palette = sns.diverging_palette(220, 20, n=len(contrast_mods), l=65, as_cmap=False)\n",
    "bg_spd = ssp.predict_multiprimary_spd(ssp.background)\n",
    "for i, s in enumerate(contrast_mods):\n",
    "    mod_spd = ssp.predict_multiprimary_spd(s) \n",
    "    plt.plot(mod_spd-bg_spd, c=palette[i], lw=1)\n",
    "    \n",
    "plt.xlabel('Wavelength (nm)')\n",
    "plt.ylabel('S-cone contrast (%)');"
   ]
  },
  {
   "cell_type": "code",
   "execution_count": null,
   "id": "d82248bb-e382-4324-a9e1-8c043941666d",
   "metadata": {},
   "outputs": [],
   "source": [
    "splatter = [ssp.get_photoreceptor_contrasts(cm) for cm in contrast_mods]\n",
    "splatter = np.vstack(splatter)\n",
    "\n",
    "plt.plot(splatter[:,0], label='S', c='b')\n",
    "plt.plot(splatter[:,1], label='M', c='g')\n",
    "plt.plot(splatter[:,2], label='L', c='r')\n",
    "plt.plot(splatter[:,3], label='R', c='k')\n",
    "plt.plot(splatter[:,4], label='I', c='cyan')\n",
    "plt.ylabel('Simple contrast')\n",
    "plt.legend()"
   ]
  },
  {
   "cell_type": "markdown",
   "id": "70a9180a-f9d9-454e-b3ed-a75d71bd22a2",
   "metadata": {},
   "source": [
    "L-cone\n",
    "------"
   ]
  },
  {
   "cell_type": "code",
   "execution_count": null,
   "id": "fffdbc40-3852-425e-8354-bfd3de898aab",
   "metadata": {},
   "outputs": [],
   "source": [
    "contrast_waveform = sinusoid_modulation(f=1, duration=1, Fs=50) * 1.1\n",
    "plt.plot(contrast_waveform)\n",
    "peak = np.argmax(contrast_waveform)\n",
    "trough = np.argmin(contrast_waveform)\n",
    "target_contrasts = contrast_waveform[peak:trough+1]\n",
    "plt.plot(np.hstack([target_contrasts, target_contrasts[::-1]]))"
   ]
  },
  {
   "cell_type": "code",
   "execution_count": null,
   "id": "f4d9f24f-f63c-4af6-ae05-dd753b535930",
   "metadata": {},
   "outputs": [],
   "source": [
    "ssp.isolate = ['L']\n",
    "ssp.silence = ['S', 'M', 'I']\n",
    "\n",
    "contrast_mods = [ssp.linalg_solve([0, 0, tc, 0]) for tc in target_contrasts]\n",
    "plt.plot(ssp.predict_multiprimary_spd(contrast_mods[0]), lw=1, label='+ve')\n",
    "plt.plot(ssp.predict_multiprimary_spd(ssp.background), lw=1, label='background')\n",
    "plt.plot(ssp.predict_multiprimary_spd(contrast_mods[-1]), lw=1, label='-ve')\n",
    "plt.legend()"
   ]
  },
  {
   "cell_type": "code",
   "execution_count": null,
   "id": "a2d12652-019a-4945-9938-91f3c7a44966",
   "metadata": {},
   "outputs": [],
   "source": [
    "palette = sns.diverging_palette(220, 20, n=len(contrast_mods), l=65, as_cmap=False)\n",
    "bg_spd = ssp.predict_multiprimary_spd(ssp.background)\n",
    "for i, s in enumerate(contrast_mods):\n",
    "    mod_spd = ssp.predict_multiprimary_spd(s) \n",
    "    plt.plot(mod_spd-bg_spd, c=palette[i], lw=1)\n",
    "    \n",
    "plt.xlabel('Wavelength (nm)')\n",
    "plt.ylabel('S-cone contrast (%)');"
   ]
  },
  {
   "cell_type": "code",
   "execution_count": null,
   "id": "0539a335-7d8a-4ac7-b15b-6ba8eff52e8e",
   "metadata": {},
   "outputs": [],
   "source": [
    "splatter = [ssp.get_photoreceptor_contrasts(cm) for cm in contrast_mods]\n",
    "splatter = np.vstack(splatter)\n",
    "\n",
    "plt.plot(splatter[:,0], label='S', c='b')\n",
    "plt.plot(splatter[:,1], label='M', c='g')\n",
    "plt.plot(splatter[:,2], label='L', c='r')\n",
    "plt.plot(splatter[:,3], label='R', c='k')\n",
    "plt.plot(splatter[:,4], label='I', c='cyan')\n",
    "plt.ylabel('Simple contrast')\n",
    "plt.legend()"
   ]
  },
  {
   "cell_type": "code",
   "execution_count": null,
   "id": "411a7849-6778-43b3-87b0-30acabb2dcc0",
   "metadata": {},
   "outputs": [],
   "source": []
  }
 ],
 "metadata": {
  "kernelspec": {
   "display_name": "Python 3 (ipykernel)",
   "language": "python",
   "name": "python3"
  },
  "language_info": {
   "codemirror_mode": {
    "name": "ipython",
    "version": 3
   },
   "file_extension": ".py",
   "mimetype": "text/x-python",
   "name": "python",
   "nbconvert_exporter": "python",
   "pygments_lexer": "ipython3",
   "version": "3.10.9"
  },
  "vscode": {
   "interpreter": {
    "hash": "2d237805792a0ad056ae24c6ca9c691c2e9ba92de03fdf37663cd7a46ff0b0e5"
   }
  }
 },
 "nbformat": 4,
 "nbformat_minor": 5
}
