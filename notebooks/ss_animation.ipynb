{
 "cells": [
  {
   "cell_type": "code",
   "execution_count": 2,
   "id": "d3de055f-b790-4fc1-a86e-c050ca6201b9",
   "metadata": {
    "pycharm": {
     "name": "#%%\n"
    }
   },
   "outputs": [
    {
     "name": "stdout",
     "output_type": "stream",
     "text": [
      "\"c4.0_f2.0.dsf\" saved in the current working directory.\n"
     ]
    }
   ],
   "source": [
    "from itertools import product\n",
    "\n",
    "import numpy as np\n",
    "import pandas as pd\n",
    "import matplotlib.pyplot as plt\n",
    "\n",
    "from pyplr.stlabhelp import make_video_file, get_led_colors\n",
    "from pysilsub.problems import SilentSubstitutionProblem as SSP\n",
    "from pysilsub.CIE import get_CIE_1924_photopic_vl, get_CIES026\n",
    "\n",
    "\n",
    "MINTENSITY = 0\n",
    "MAXTENSITY = 4095\n",
    "BACKGROUND = MAXTENSITY/2\n",
    "Fs = 100\n",
    "vl = get_CIE_1924_photopic_vl()\n",
    "lms = get_CIES026()\n",
    "\n",
    "def get_sinusoid_time_vector(duration):\n",
    "    return np.arange(0, (duration * 1000), 10).astype(\"int\")\n",
    "\n",
    "\n",
    "def sinusoid_modulation(f, duration, Fs=100):\n",
    "    x  = np.arange(duration * Fs)\n",
    "    return np.sin(2 * np.pi * f * x / Fs)\n",
    "\n",
    "\n",
    "def modulate_intensity_amplitude(sm, background, amplitude):\n",
    "    return (background + (sm * amplitude)).astype(\"int\")\n",
    "\n",
    "\n",
    "ssp1 = SSP.from_package_data('STLAB_1_York')\n",
    "\n",
    "ssp1.ignore = ['R']\n",
    "ssp1.modulate = ['S']\n",
    "ssp1.minimize = ['M', 'L', 'I']\n",
    "ssp1.background = [.5] * ssp1.nprimaries\n",
    "ssp1.target_contrast = 0\n",
    "\n",
    "frequency = [2.0]\n",
    "contrast = [4.]\n",
    "seconds = 12\n",
    "\n",
    "for f, c in product(frequency, contrast):\n",
    "    stimulus_profile = sinusoid_modulation(f, seconds, Fs)*.4\n",
    "\n",
    "    contrast_mods = []\n",
    "    for tc in stimulus_profile:\n",
    "        ssp1.target_contrast = tc\n",
    "        contrast_mods.append(ssp1.linalg_solve())\n",
    "    \n",
    "    cycle_mod = pd.concat(contrast_mods, axis=1).T.mul(4096).astype('int')\n",
    "    \n",
    "    cycle_mod.columns = ['LED-' + str(c) for c in cycle_mod.columns]\n",
    "    cycle_mod['time'] = get_sinusoid_time_vector(seconds)\n",
    "    cols = cycle_mod.columns.to_list()\n",
    "    cols = cols[-1:] + cols[:-1]\n",
    "    \n",
    "    cycle_mod = cycle_mod[cols]\n",
    "\n",
    "    metadata = {\n",
    "        'title': '2 Hz S-cone modulation',\n",
    "        'seconds': seconds, \n",
    "        'contrast': c,\n",
    "        'frequency': f\n",
    "        }\n",
    "    make_video_file(cycle_mod, repeats=1, fname=f'c{c}_f{f}', **metadata)"
   ]
  },
  {
   "cell_type": "code",
   "execution_count": 3,
   "id": "ec285cd1-cfca-4702-9d08-4588ff5cca57",
   "metadata": {
    "pycharm": {
     "name": "#%%\n"
    }
   },
   "outputs": [
    {
     "data": {
      "text/plain": [
       "<matplotlib.legend.Legend at 0x7fd5a3eef750>"
      ]
     },
     "execution_count": 3,
     "metadata": {},
     "output_type": "execute_result"
    },
    {
     "data": {
      "image/png": "[encoded data removed]",
      "text/plain": [
       "<Figure size 432x288 with 1 Axes>"
      ]
     },
     "metadata": {
      "needs_background": "light"
     },
     "output_type": "display_data"
    }
   ],
   "source": [
    "splatter = [ssp1.get_photoreceptor_contrasts(cm) for cm in contrast_mods[0:51]]\n",
    "splatter = np.vstack(splatter)\n",
    "\n",
    "plt.plot(splatter[:,0], label='S', c='b')\n",
    "plt.plot(splatter[:,1], label='M', c='g')\n",
    "plt.plot(splatter[:,2], label='L', c='r')\n",
    "plt.plot(splatter[:,3], label='R', c='k')\n",
    "plt.plot(splatter[:,4], label='I', c='cyan')\n",
    "plt.ylabel('Simple contrast')\n",
    "plt.legend()"
   ]
  },
  {
   "cell_type": "code",
   "execution_count": 5,
   "id": "38db910e-2253-4cb1-85da-9d4d81703d17",
   "metadata": {},
   "outputs": [],
   "source": [
    "import numpy as np\n",
    "from matplotlib import pyplot as plt\n",
    "from matplotlib import animation\n",
    "%matplotlib widget\n",
    "\n",
    "background = ssp1.predict_multiprimary_spd(ssp1.background)\n",
    "contrast_mods = contrast_mods[0:50]"
   ]
  },
  {
   "cell_type": "code",
   "execution_count": null,
   "id": "c7d83776-2860-4c2a-b658-1379fb71b754",
   "metadata": {},
   "outputs": [],
   "source": [
    "\n",
    "fig = plt.figure()\n",
    "ax = plt.axes(xlim=(300, 800), ylim=(0, 2e06))\n",
    "ax.set_xlabel('Wavelength (nm)')\n",
    "x = np.arange(380, 781, 1)\n",
    "t = ax.text(.01, .7, '', fontsize=12, transform=ax.transAxes)\n",
    "\n",
    "lines = []\n",
    "for p, c in zip(ssp1.primaries, ssp1.colors):\n",
    "    line, = ax.plot([], [], lw=2, color=c, label=f'Primary {p}')\n",
    "    lines.append(line)\n",
    "    \n",
    "#text = []\n",
    "#for p, c in zip(ssp1.primaries, ssp1.colors):\n",
    "#    text, = ax.text([], [], lw=2, color=c, label=f'Primary {p}')\n",
    "#    text.append(text)\n",
    "    \n",
    "ax.legend()\n",
    "\n",
    "def init():\n",
    "    for line in lines:\n",
    "        line.set_data([], [])\n",
    "    return (lines,)\n",
    "\n",
    "def animate(i):\n",
    "    primaries = ssp1.predict_multiprimary_spd(contrast_mods[i], nosum=True).T\n",
    "    contrasts = ssp1.get_photoreceptor_contrasts(contrast_mods[i])\n",
    "    \n",
    "    for lnum,line in enumerate(lines):\n",
    "        line.set_data(x, primaries.loc[lnum]) # set data for each line separately. \n",
    "    \n",
    "    string = contrasts.to_frame().mul(100).round(2).to_string(justify='center', header=False, index_names=False)\n",
    "    t.set_text(string)\n",
    "    \n",
    "    return (lines,)\n",
    "\n",
    "# call the animator.  blit=True means only re-draw the parts that have changed.\n",
    "anim = animation.FuncAnimation(fig, animate, init_func=init,\n",
    "                               frames=len(contrast_mods), \n",
    "                               interval=1, blit=True)\n",
    "\n",
    "anim.save('ss_animation.mp4', fps=30, extra_args=['-vcodec', 'libx264'])\n",
    "anim.save('ss_basic_animation.gif', fps=30, writer='imagemagick')\n",
    "\n"
   ]
  },
  {
   "cell_type": "code",
   "execution_count": null,
   "id": "fafdf231-4acb-4be8-bc07-be7866f5c898",
   "metadata": {},
   "outputs": [],
   "source": [
    "#from matplotlib import pyplot as plt, animation\n",
    "#plt.rcParams[\"figure.figsize\"] = [7.50, 3.50]\n",
    "#plt.rcParams[\"figure.autolayout\"] = True\n",
    "#fig, ax = plt.subplots()\n",
    "#ax.set(xlim=(-1, 1), ylim=(-1, 1))\n",
    "#string = 'Hello, how are you doing?'\n",
    "#label = ax.text(0, 0, string[0], ha='center', va='center', fontsize=20, color=\"Red\")\n",
    "\n",
    "#def animate(i):\n",
    "#   label.set_text(string[:i + 1])\n",
    "\n",
    "#anim = animation.FuncAnimation(\n",
    "#   fig, animate, interval=200, frames=len(string))\n",
    "#ax.axis('off')\n",
    "#plt.show()"
   ]
  },
  {
   "cell_type": "code",
   "execution_count": null,
   "id": "64fbb647-a80c-46c2-baec-4e247817f018",
   "metadata": {},
   "outputs": [],
   "source": []
  }
 ],
 "metadata": {
  "kernelspec": {
   "display_name": "Python 3 (ipykernel)",
   "language": "python",
   "name": "python3"
  },
  "language_info": {
   "codemirror_mode": {
    "name": "ipython",
    "version": 3
   },
   "file_extension": ".py",
   "mimetype": "text/x-python",
   "name": "python",
   "nbconvert_exporter": "python",
   "pygments_lexer": "ipython3",
   "version": "3.7.7"
  }
 },
 "nbformat": 4,
 "nbformat_minor": 5
}
