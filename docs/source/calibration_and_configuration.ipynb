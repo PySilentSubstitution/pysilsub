{
 "cells": [
  {
   "cell_type": "markdown",
   "metadata": {},
   "source": [
    "Calibration and configuration\n",
    "=============================\n",
    "\n",
    "A standard RGB computer monitor has only three primaries. This means it isn't great for silent substitution, but it is a good example to show how to calibrate and configure a multiprimary system for use with *PySilSub* because the same principles can be applied to a device with any number of primaries. \n",
    "\n",
    "To make a calibration file you will need to measure the output of the primaries with a spectrometer. As a minimum, the file should include measurements for each primary at its maximum output, as well as an ambient spectral measurement where all primaries are off. Most standard monitors have 8-bit resolution which means that the input is specified with values between 0 and 255. So the settings to be measured are:\n",
    "\n",
    "* Red: [255, 0, 0]\n",
    "* Green: [0, 255, 0]\n",
    "* Blue: [0, 0, 255] \n",
    "* Ambient measurement: [0, 0, 0]\n",
    "\n",
    "One way to obtain these measurements would be to write a simple program that sets the full screen colour using each of the above settings before sampling with a spectrometer. \n",
    "\n",
    "When you have the measurements, put them in a CSV file where the first row describes the wavelength sampling (e.g., 380, 381, ..., 780) and every subsequent row contains a spectral measurement. Also include column headers *Primary* and *Setting* with numerical values to identify the spectral measurements. \n",
    "\n",
    "\n",
    "| Primary | Setting | 380 | 381 | ... | 780 |\n",
    "| ------- |-------- | --- | --- | --- | --- |\n",
    "| 0       | 0       | ... | ... | ... | ... |\n",
    "| 0       | 255     | ... | ... | ... | ... |\n",
    "| 1       | 0       | ... | ... | ... | ... |\n",
    "| 1       | 255     | ... | ... | ... | ... |\n",
    "| 2       | 0       | ... | ... | ... | ... |\n",
    "| 2       | 255     | ... | ... | ... | ... |\n",
    "\n",
    "With the above calibration file we are ready to go:"
   ]
  },
  {
   "cell_type": "markdown",
   "metadata": {},
   "source": [
    "```Python\n",
    "from pysilsub.device import StimulationDevice\n",
    "\n",
    "device = StimulationDevice(\n",
    "    resolutions = [255, 255, 255],\n",
    "    colors = ['blue', 'green', 'red'],\n",
    "    calibration = './calibration_file.csv',\n",
    "    wavelengths = [380, 780, 1],\n",
    "    name = 'Standard Monitor'\n",
    "    )\n",
    "```"
   ]
  },
  {
   "cell_type": "markdown",
   "metadata": {},
   "source": [
    "We can now do useful things like plot the calibration SPDs and their chromaticities, as well as predict the spectral output of the device for any combination of settings. "
   ]
  },
  {
   "cell_type": "markdown",
   "metadata": {},
   "source": [
    "This is OK, but most computer monitors--and most light devices for that matter--do not have a linear input-output relationship (sometimes called gamma), so our predictions are unlikely to be accurate. We can improve the accuracy of the device model by obtaining multiple measurements for each primary accross the input range. For example:\n",
    "\n",
    "| Primary | Setting | 380 | 381 | ... | 780 |\n",
    "| ------- |-------- | --- | --- | --- | --- |\n",
    "| 0       | 0       | ... | ... | ... | ... |\n",
    "| 0       | 7       | ... | ... | ... | ... |\n",
    "| 0       | 15      | ... | ... | ... | ... |\n",
    "| 0       | ...     | ... | ... | ... | ... |\n",
    "| 0       | 247     | ... | ... | ... | ... |\n",
    "| 0       | 255     | ... | ... | ... | ... |\n",
    "| 1       | 0       | ... | ... | ... | ... |\n",
    "| 1       | 7       | ... | ... | ... | ... |\n",
    "| 1       | 15      | ... | ... | ... | ... |\n",
    "| 1       | ...     | ... | ... | ... | ... |\n",
    "| 1       | 247     | ... | ... | ... | ... |\n",
    "| 1       | 255     | ... | ... | ... | ... |\n",
    "| 2       | 0       | ... | ... | ... | ... |\n",
    "| 2       | 7       | ... | ... | ... | ... |\n",
    "| 2       | 15      | ... | ... | ... | ... |\n",
    "| 2       | ...     | ... | ... | ... | ... |\n",
    "| 2       | 247     | ... | ... | ... | ... |\n",
    "| 2       | 255     | ... | ... | ... | ... |"
   ]
  },
  {
   "cell_type": "markdown",
   "metadata": {},
   "source": []
  },
  {
   "cell_type": "markdown",
   "metadata": {
    "tags": []
   },
   "source": [
    "For convenience, you can save your device settings in a JSON file and \n",
    "\n",
    "```Python\n",
    "import json\n",
    "\n",
    "# Configure device\n",
    "RESOLUTIONS = [255, 255, 255]\n",
    "COLORS = [\"blue\", \"green\", \"red\"]\n",
    "CALIBRATION_FPATH = (\n",
    "    \"~/long/path/to/calibration_file.csv\"\n",
    ")\n",
    "CALIBRATION_UNITS = \"W/m$^2$/nm\"\n",
    "NAME = \"Standard Monitor (8-bit, RGB)\"\n",
    "JSON_NAME = \"StandardMonitor\"\n",
    "WAVELENGTHS = [380, 781, 1]\n",
    "\n",
    "# Optional\n",
    "NOTES = (\n",
    "    \"A standard computer monitor calibration. Not very useful for silent substitution, but we may be able to do something interesting if we ignore rods and melanopsin.\"\n",
    ")\n",
    "\n",
    "\n",
    "def device_config():\n",
    "\n",
    "    config = {\n",
    "        \"calibration_fpath\": CALIBRATION_FPATH,\n",
    "        \"calibration_units\": CALIBRATION_UNITS,\n",
    "        \"name\": NAME,\n",
    "        \"json_name\": JSON_NAME,\n",
    "        \"wavelengths\": WAVELENGTHS,\n",
    "        \"colors\": COLORS,\n",
    "        \"resolutions\": RESOLUTIONS,\n",
    "        \"notes\": NOTES,\n",
    "    }\n",
    "\n",
    "    json.dump(config, open(f\"../data/{JSON_NAME}.json\", \"w\"), indent=4)\n",
    "\n",
    "\n",
    "if __name__ == \"__main__\":\n",
    "    device_config()\n",
    "```"
   ]
  },
  {
   "cell_type": "markdown",
   "metadata": {},
   "source": []
  }
 ],
 "metadata": {
  "kernelspec": {
   "display_name": "Python 3 (ipykernel)",
   "language": "python",
   "name": "python3"
  },
  "language_info": {
   "codemirror_mode": {
    "name": "ipython",
    "version": 3
   },
   "file_extension": ".py",
   "mimetype": "text/x-python",
   "name": "python",
   "nbconvert_exporter": "python",
   "pygments_lexer": "ipython3",
   "version": "3.7.7"
  },
  "vscode": {
   "interpreter": {
    "hash": "2d237805792a0ad056ae24c6ca9c691c2e9ba92de03fdf37663cd7a46ff0b0e5"
   }
  }
 },
 "nbformat": 4,
 "nbformat_minor": 4
}
