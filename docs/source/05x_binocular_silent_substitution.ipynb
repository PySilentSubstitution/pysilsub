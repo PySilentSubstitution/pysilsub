{
 "cells": [
  {
   "cell_type": "markdown",
   "id": "4ca859cb-daf6-459a-bc16-8fd4aac11a42",
   "metadata": {},
   "source": [
    "\n",
    "Binocular silent substitution\n",
    "=============================\n",
    "\n",
    "This toolbox was designed for a research program involving binocular silent substitution. "
   ]
  },
  {
   "cell_type": "code",
   "execution_count": null,
   "id": "050e2ea8-11ee-4445-b252-479e8e556b92",
   "metadata": {},
   "outputs": [],
   "source": []
  }
 ],
 "metadata": {
  "kernelspec": {
   "display_name": "Python 3 (ipykernel)",
   "language": "python",
   "name": "python3"
  },
  "language_info": {
   "codemirror_mode": {
    "name": "ipython",
    "version": 3
   },
   "file_extension": ".py",
   "mimetype": "text/x-python",
   "name": "python",
   "nbconvert_exporter": "python",
   "pygments_lexer": "ipython3",
   "version": "3.10.4"
  }
 },
 "nbformat": 4,
 "nbformat_minor": 5
}
