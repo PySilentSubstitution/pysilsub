{
 "cells": [
  {
   "cell_type": "markdown",
   "id": "0b0aead4-7b78-495c-9783-d7ed733e7d27",
   "metadata": {},
   "source": [
    "Linear algebra\n",
    "==============\n",
    "\n",
    "Information on how to solve silent substitution problems with linear algebra. For example..."
   ]
  },
  {
   "cell_type": "markdown",
   "id": "a0efca69-b9d9-4490-b980-b80521dfeff7",
   "metadata": {},
   "source": [
    "$A=\\begin{bmatrix}1 & 2 & 3\\\\ a & b & c\\end{bmatrix}=$"
   ]
  },
  {
   "cell_type": "markdown",
   "id": "51968605-179e-4262-b2cb-ba25df7e048c",
   "metadata": {},
   "source": [
    "$PC_{d}=\\begin{bmatrix}L\\\\ M\\\\ S\\\\ R\\\\ \\end{bmatrix}=B\\times\\begin{bmatrix}RCd\\\\ GCd\\\\ BCd\\\\ ACd\\\\ \\end{bmatrix}PCd=\\begin{bmatrix}0\\\\ 0\\\\ 0\\\\ 0.25\\\\ \\end{bmatrix}$"
   ]
  },
  {
   "cell_type": "markdown",
   "id": "32dafc4f-c495-43b1-9505-e3c75b7a1039",
   "metadata": {},
   "source": [
    "Maguire, J., Parry, N. R. A., Kremers, J., Kommanapalli, D., Murray, I. J., & McKeefry, D. J. (2016). Rod electroretinograms elicited by silent substitution stimuli from the light-adapted human eye. Translational Vision Science and Technology, 5(4). https://doi.org/10.1167/tvst.5.4.13"
   ]
  },
  {
   "cell_type": "markdown",
   "id": "42fb0c84-1ae1-4746-b056-637ca793733e",
   "metadata": {},
   "source": [
    "More info coming soon."
   ]
  }
 ],
 "metadata": {
  "kernelspec": {
   "display_name": "Python 3 (ipykernel)",
   "language": "python",
   "name": "python3"
  },
  "language_info": {
   "codemirror_mode": {
    "name": "ipython",
    "version": 3
   },
   "file_extension": ".py",
   "mimetype": "text/x-python",
   "name": "python",
   "nbconvert_exporter": "python",
   "pygments_lexer": "ipython3",
   "version": "3.7.7"
  }
 },
 "nbformat": 4,
 "nbformat_minor": 5
}
