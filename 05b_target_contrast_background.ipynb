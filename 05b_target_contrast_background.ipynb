{
 "cells": [
  {
   "cell_type": "markdown",
   "id": "0b0aead4-7b78-495c-9783-d7ed733e7d27",
   "metadata": {},
   "source": [
    "External optimisations\n",
    "======================\n",
    "\n",
    "The `.optim_solve()` method is a convenience. It relie on the internally conditioned "
   ]
  },
  {
   "cell_type": "code",
   "execution_count": 1,
   "id": "c94214c2-fbc5-4a5e-907e-544d8cb56a64",
   "metadata": {},
   "outputs": [],
   "source": [
    "a = 12\n",
    "b = a"
   ]
  },
  {
   "cell_type": "code",
   "execution_count": null,
   "id": "acc6a6c6-9174-489a-834b-4c61c139edaa",
   "metadata": {},
   "outputs": [],
   "source": []
  }
 ],
 "metadata": {
  "kernelspec": {
   "display_name": "Python 3.7.7 ('silsub')",
   "language": "python",
   "name": "python3"
  },
  "language_info": {
   "codemirror_mode": {
    "name": "ipython",
    "version": 3
   },
   "file_extension": ".py",
   "mimetype": "text/x-python",
   "name": "python",
   "nbconvert_exporter": "python",
   "pygments_lexer": "ipython3",
   "version": "3.7.7"
  },
  "vscode": {
   "interpreter": {
    "hash": "2d237805792a0ad056ae24c6ca9c691c2e9ba92de03fdf37663cd7a46ff0b0e5"
   }
  }
 },
 "nbformat": 4,
 "nbformat_minor": 5
}
