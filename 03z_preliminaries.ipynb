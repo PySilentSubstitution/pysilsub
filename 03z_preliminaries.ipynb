{
 "cells": [
  {
   "cell_type": "markdown",
   "id": "5771e770-6f3a-497e-8994-767a186e8184",
   "metadata": {},
   "source": [
    "Preliminaries\n",
    "=============\n",
    "\n"
   ]
  },
  {
   "cell_type": "markdown",
   "id": "6d25361f-d670-457d-a4da-175abc06da1f",
   "metadata": {},
   "source": [
    "![](../../notebooks/animation.gif)"
   ]
  },
  {
   "cell_type": "code",
   "execution_count": null,
   "id": "a72cfcd5-d445-4120-b03f-5cc99d756a1f",
   "metadata": {},
   "outputs": [],
   "source": []
  }
 ],
 "metadata": {
  "kernelspec": {
   "display_name": "Python 3 (ipykernel)",
   "language": "python",
   "name": "python3"
  },
  "language_info": {
   "codemirror_mode": {
    "name": "ipython",
    "version": 3
   },
   "file_extension": ".py",
   "mimetype": "text/x-python",
   "name": "python",
   "nbconvert_exporter": "python",
   "pygments_lexer": "ipython3",
   "version": "3.7.7"
  }
 },
 "nbformat": 4,
 "nbformat_minor": 5
}
