{
 "cells": [
  {
   "cell_type": "markdown",
   "id": "475b505d-9edf-4a45-a16a-33d58a113a35",
   "metadata": {
    "tags": []
   },
   "source": [
    "\n",
    "Using an external optimiser\n",
    "---------------------------\n",
    "\n",
    "`.optim_solve()` is flexible and the underlying `SciPy` algorithms can be configured by passing in keyword arguments, but in some cases it may be preferable to set up an external optimisation. This can be done by passing in the \n",
    "\n",
    "*'Ipopt (Interior Point OPTimizer, pronounced eye-pea-Opt) is a software package for large-scale nonlinear optimization. cyipopt is a python wrapper around Ipopt. It enables using Ipopt from the comfort of the great Python scripting language. Ipopt is available from the COIN-OR initiative, under the Eclipse Public License (EPL).'*"
   ]
  },
  {
   "cell_type": "code",
   "execution_count": null,
   "id": "de9925a7-d93f-4aaf-bd81-681ab33b5191",
   "metadata": {},
   "outputs": [
    {
     "name": "stdout",
     "output_type": "stream",
     "text": [
      "************************************************************\n",
      "*************** Silent Substitution Problem ****************\n",
      "************************************************************\n",
      "Device: STLAB_1 (binocular, left eye)\n",
      "Observer: StandardColorimetricObserver(age=32, field_size=10)\n",
      "Ignoring: ['rh']\n",
      "Minimising: ['sc', 'mc', 'lc']\n",
      "Modulating: ['mel']\n",
      "Target contrast: [ 1.]\n",
      "Background: None\n",
      "\n",
      "\n",
      "Total number of variables............................:       20\n",
      "                     variables with only lower bounds:        0\n",
      "                variables with lower and upper bounds:       20\n",
      "                     variables with only upper bounds:        0\n",
      "Total number of equality constraints.................:        1\n",
      "Total number of inequality constraints...............:        0\n",
      "        inequality constraints with only lower bounds:        0\n",
      "   inequality constraints with lower and upper bounds:        0\n",
      "        inequality constraints with only upper bounds:        0\n",
      "\n"
     ]
    }
   ],
   "source": [
    "from pysilsub.problems import SilentSubstitutionProblem as SSP\n",
    "\n",
    "from cyipopt import minimize_ipopt\n",
    "\n",
    "\n",
    "# Instantiate the problem class\n",
    "ssp = SSP.from_package_data('STLAB_1_York')\n",
    "\n",
    "# Define problem\n",
    "ssp.ignore = ['rh']\n",
    "ssp.modulate = ['mel']\n",
    "ssp.minimize = ['sc', 'mc', 'lc']\n",
    "ssp.target_contrast = 1.0\n",
    "ssp.print_problem()\n",
    "\n",
    "constraints = [\n",
    "    {\"type\": \"eq\", \"fun\": ssp.silencing_constraint, \"tol\": 1e-05, \"bounds\": ssp.bounds * 2}\n",
    "]\n",
    "    \n",
    "# Set up optimisation\n",
    "solution = minimize_ipopt(\n",
    "    fun=ssp.objective_function,\n",
    "    x0=ssp.initial_guess_x0(),\n",
    "    args=(),\n",
    "    bounds=ssp.bounds * 2,\n",
    "    constraints=constraints,\n",
    "    tol=1e-08,\n",
    "    options={b\"print_level\": 3, b\"constr_viol_tol\": 1e-02, b\"max_iter\": 100},\n",
    ")\n",
    "\n",
    "# Plot the solution\n",
    "_ = ssp.plot_solution(solution.x)"
   ]
  },
  {
   "cell_type": "code",
   "execution_count": 19,
   "id": "e28e924b-f2b3-4501-a6f1-b3dbcb1d42df",
   "metadata": {
    "tags": []
   },
   "outputs": [
    {
     "name": "stdout",
     "output_type": "stream",
     "text": [
      "sc     0.062264\n",
      "mc     0.080541\n",
      "lc    -0.112253\n",
      "rh     0.599552\n",
      "mel    0.790417\n",
      "dtype: float64\n"
     ]
    }
   ],
   "source": [
    "ssp.print_photoreceptor_contrasts(solution.x)"
   ]
  }
 ],
 "metadata": {
  "kernelspec": {
   "display_name": "Python 3 (ipykernel)",
   "language": "python",
   "name": "python3"
  },
  "language_info": {
   "codemirror_mode": {
    "name": "ipython",
    "version": 3
   },
   "file_extension": ".py",
   "mimetype": "text/x-python",
   "name": "python",
   "nbconvert_exporter": "python",
   "pygments_lexer": "ipython3",
   "version": "3.10.4"
  }
 },
 "nbformat": 4,
 "nbformat_minor": 5
}
