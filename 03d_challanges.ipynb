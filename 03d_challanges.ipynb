{
 "cells": [
  {
   "cell_type": "markdown",
   "id": "0b0aead4-7b78-495c-9783-d7ed733e7d27",
   "metadata": {},
   "source": [
    "Challanges\n",
    "==========\n",
    "\n",
    "Here we list some of the challanges to the method of silent substitution and suggest how they can be dealt with. "
   ]
  },
  {
   "cell_type": "markdown",
   "id": "7215fac2-5341-448b-8ace-ebadfb401d24",
   "metadata": {},
   "source": [
    "Prereceptoral filtering\n",
    "-----------------------\n",
    "\n",
    "Light passes through the ocular media before it strikes the retina\n",
    "\n",
    "\n",
    "\n",
    "\n"
   ]
  },
  {
   "cell_type": "markdown",
   "id": "ff7869c1-d37a-460e-982b-c64496d2d1d5",
   "metadata": {},
   "source": [
    "### Macular pigment density\n",
    "\n",
    "The macula lutea"
   ]
  },
  {
   "cell_type": "code",
   "execution_count": 12,
   "id": "92af16d2-a8d1-40fd-83d0-e3a7d3bd78d7",
   "metadata": {},
   "outputs": [
    {
     "data": {
      "text/plain": [
       "<AxesSubplot:xlabel='Wavelength', ylabel='Macula pigment density'>"
      ]
     },
     "execution_count": 12,
     "metadata": {},
     "output_type": "execute_result"
    },
    {
     "data": {
      "image/png": "[encoded data removed]",
      "text/plain": [
       "<Figure size 432x288 with 1 Axes>"
      ]
     },
     "metadata": {
      "needs_background": "light"
     },
     "output_type": "display_data"
    }
   ],
   "source": [
    "from pysilsub.precep import get_macula_pigment_density_spectra\n",
    "\n",
    "mpd = get_macula_pigment_density_spectra()\n",
    "mpd.plot(ylabel='Macula pigment density')"
   ]
  },
  {
   "cell_type": "markdown",
   "id": "50544ad2-0e30-4a59-8505-fdf142f6a0e9",
   "metadata": {},
   "source": [
    "### Lens density\n",
    "\n",
    "The crystalline lens in the human eye yellows with age due to absorption of short wavelength light. \n",
    "\n",
    "![](../../img/lens_yellowing_age.jpg)"
   ]
  },
  {
   "cell_type": "code",
   "execution_count": 11,
   "id": "a6c8689a-1c33-41b8-a71b-c5bdeef082d4",
   "metadata": {},
   "outputs": [
    {
     "data": {
      "text/plain": [
       "<AxesSubplot:xlabel='Wavelength', ylabel='Lens density'>"
      ]
     },
     "execution_count": 11,
     "metadata": {},
     "output_type": "execute_result"
    },
    {
     "data": {
      "image/png": "[encoded data removed]",
      "text/plain": [
       "<Figure size 432x288 with 1 Axes>"
      ]
     },
     "metadata": {
      "needs_background": "light"
     },
     "output_type": "display_data"
    }
   ],
   "source": [
    "from pysilsub.precep import get_lens_density_spectra\n",
    "\n",
    "ld = get_lens_density_spectra()\n",
    "ld.plot(ylabel='Lens density')"
   ]
  },
  {
   "cell_type": "code",
   "execution_count": 10,
   "id": "670c0b79-834a-44b0-8002-baf60c019922",
   "metadata": {},
   "outputs": [
    {
     "data": {
      "text/plain": [
       "Wavelength\n",
       "390.0    0.04533\n",
       "391.0    0.04918\n",
       "392.0    0.05304\n",
       "393.0    0.05693\n",
       "394.0    0.06087\n",
       "          ...   \n",
       "826.0    0.00000\n",
       "827.0    0.00000\n",
       "828.0    0.00000\n",
       "829.0    0.00000\n",
       "830.0    0.00000\n",
       "Name: Density, Length: 441, dtype: float64"
      ]
     },
     "execution_count": 10,
     "metadata": {},
     "output_type": "execute_result"
    }
   ],
   "source": [
    "mpd"
   ]
  },
  {
   "cell_type": "markdown",
   "id": "01c87e45-2ef5-4bcb-8b68-899a2577c68a",
   "metadata": {},
   "source": [
    "Retinal inhomogeneity\n",
    "---------------------\n",
    "\n",
    "- macular pigment filters light seen by fovea, effectively shifting the spectral sensetivity of photoreceptors in this region\n",
    "  - occlude central portion of stimulus to exclude this part of the retina from stimulation\n",
    "- penumbral cones in the shadow of retinal blood vessels\n",
    "  - silence (contrast penalty) or ignore"
   ]
  },
  {
   "cell_type": "markdown",
   "id": "a0efca69-b9d9-4490-b980-b80521dfeff7",
   "metadata": {},
   "source": [
    "Individual differences\n",
    "----------------------\n",
    "\n",
    "The cone fundamentals used to model photoreceptor responses are based on a 'standard observer', but in reality the  spectral sensetivites are affected by:\n",
    "\n",
    "- spatial variation in macular pigment - this can alter stimulus properties\n",
    "- effect of age on cone fundamentals"
   ]
  },
  {
   "cell_type": "markdown",
   "id": "7e1c2003-7081-4cbf-975c-1343fb169068",
   "metadata": {},
   "source": [
    "Device uncertainty\n",
    "------------------\n",
    "\n",
    "- instrumental drift, non-linearities\n",
    "- failures of additvity (have we seen this in the red primaries of STLAB?)\n",
    "- stability over time, within and between sessions\n",
    "- See supplementary info from Spitschan 2017 PNAS for more info - 'spectrum seeking to improve stimulus control'\n",
    "- calibrate, characterize, simulate\n",
    "- thermal effects of LEDs"
   ]
  },
  {
   "cell_type": "markdown",
   "id": "2e532d23-f57f-494e-828d-264f5d8ff044",
   "metadata": {},
   "source": [
    "Rod intrusion\n",
    "-------------\n",
    "\n",
    "- silence or ignore\n",
    "- rod saturation threshold:\n",
    "  - 3.0 log$_{10}$ sc td - [Adelson, 1982](https://doi.org/10.1016/0042-6989(82)90143-2)\n",
    "  - 3.3 - 3.7 log$_{10}$ sc td - [Aguiller and Stiles, 1954](https://doi.org/10.1080/713818657)\n"
   ]
  },
  {
   "cell_type": "code",
   "execution_count": null,
   "id": "364dbd0b-48b5-4b5a-8af8-fdb24d5ea6cc",
   "metadata": {},
   "outputs": [],
   "source": []
  }
 ],
 "metadata": {
  "kernelspec": {
   "display_name": "Python 3 (ipykernel)",
   "language": "python",
   "name": "python3"
  },
  "language_info": {
   "codemirror_mode": {
    "name": "ipython",
    "version": 3
   },
   "file_extension": ".py",
   "mimetype": "text/x-python",
   "name": "python",
   "nbconvert_exporter": "python",
   "pygments_lexer": "ipython3",
   "version": "3.7.7"
  }
 },
 "nbformat": 4,
 "nbformat_minor": 5
}
